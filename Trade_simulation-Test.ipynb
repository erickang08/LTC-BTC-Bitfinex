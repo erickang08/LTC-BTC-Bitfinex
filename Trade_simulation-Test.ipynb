{
 "cells": [
  {
   "cell_type": "code",
   "execution_count": 1,
   "metadata": {},
   "outputs": [],
   "source": [
    "import pandas as pd\n",
    "import numpy as np\n",
    "import math\n",
    "import os\n",
    "import csv\n",
    "import time\n",
    "from datetime import datetime\n",
    "from statsmodels.tsa.tsatools import lagmat\n",
    "import statsmodels.api as sm\n",
    "from statsmodels.formula.api import ols\n",
    "import matplotlib.pyplot as plt"
   ]
  },
  {
   "cell_type": "markdown",
   "metadata": {},
   "source": [
    "# Data processing"
   ]
  },
  {
   "cell_type": "code",
   "execution_count": 21,
   "metadata": {},
   "outputs": [],
   "source": [
    "pattern_bm = '%Y-%m-%dT%H:%M:%S.%fZ'\n",
    "pattern_bf = '%Y-%m-%d %H:%M:%S.%f'\n",
    "\n",
    "dateparse_bm = lambda dates: datetime.strptime(dates, pattern_bm)\n",
    "dateparse_bf = lambda dates: datetime.strptime(dates, pattern_bf)\n",
    "\n",
    "\n",
    "df_trades_ltc = pd.read_csv('./trades_public/bitfinex_trades_ltc_3.csv',parse_dates=True, index_col='utc',date_parser=dateparse_bf).sort_values(by=['utc'])#.truncate(before=week_ago_str, after=now_str)\n",
    "df_trades_ltc['currency'] = 'ltc'\n",
    "\n",
    "df_trades_btc = pd.read_csv('./trades_public/bitfinex_trades_btc_3.csv',parse_dates=True, index_col='utc',date_parser=dateparse_bf).sort_values(by=['utc'])#.truncate(before=week_ago_str, after=now_str)\n",
    "df_trades_btc['currency'] = 'btc'\n",
    "\n",
    "\n",
    "df_trades_all = df_trades_btc.append(df_trades_ltc).sort_values(by=['utc'])\n",
    "\n",
    "\n",
    "\n"
   ]
  },
  {
   "cell_type": "code",
   "execution_count": 22,
   "metadata": {},
   "outputs": [
    {
     "data": {
      "text/html": [
       "<div>\n",
       "<style scoped>\n",
       "    .dataframe tbody tr th:only-of-type {\n",
       "        vertical-align: middle;\n",
       "    }\n",
       "\n",
       "    .dataframe tbody tr th {\n",
       "        vertical-align: top;\n",
       "    }\n",
       "\n",
       "    .dataframe thead th {\n",
       "        text-align: right;\n",
       "    }\n",
       "</style>\n",
       "<table border=\"1\" class=\"dataframe\">\n",
       "  <thead>\n",
       "    <tr style=\"text-align: right;\">\n",
       "      <th></th>\n",
       "      <th>timestamp</th>\n",
       "      <th>id</th>\n",
       "      <th>price</th>\n",
       "      <th>size</th>\n",
       "      <th>currency</th>\n",
       "    </tr>\n",
       "    <tr>\n",
       "      <th>utc</th>\n",
       "      <th></th>\n",
       "      <th></th>\n",
       "      <th></th>\n",
       "      <th></th>\n",
       "      <th></th>\n",
       "    </tr>\n",
       "  </thead>\n",
       "  <tbody>\n",
       "    <tr>\n",
       "      <th>2020-06-13 09:50:17.115</th>\n",
       "      <td>1592041817115</td>\n",
       "      <td>458426739</td>\n",
       "      <td>44.66</td>\n",
       "      <td>-2.000000</td>\n",
       "      <td>ltc</td>\n",
       "    </tr>\n",
       "    <tr>\n",
       "      <th>2020-06-13 09:50:33.863</th>\n",
       "      <td>1592041833863</td>\n",
       "      <td>458471052</td>\n",
       "      <td>9433.00</td>\n",
       "      <td>-0.178916</td>\n",
       "      <td>btc</td>\n",
       "    </tr>\n",
       "    <tr>\n",
       "      <th>2020-06-13 09:50:44.173</th>\n",
       "      <td>1592041844173</td>\n",
       "      <td>458471053</td>\n",
       "      <td>9433.00</td>\n",
       "      <td>-0.178920</td>\n",
       "      <td>btc</td>\n",
       "    </tr>\n",
       "    <tr>\n",
       "      <th>2020-06-13 09:50:52.807</th>\n",
       "      <td>1592041852807</td>\n",
       "      <td>458471055</td>\n",
       "      <td>9432.50</td>\n",
       "      <td>-0.012000</td>\n",
       "      <td>btc</td>\n",
       "    </tr>\n",
       "    <tr>\n",
       "      <th>2020-06-13 09:50:52.807</th>\n",
       "      <td>1592041852807</td>\n",
       "      <td>458471054</td>\n",
       "      <td>9432.50</td>\n",
       "      <td>-0.003000</td>\n",
       "      <td>btc</td>\n",
       "    </tr>\n",
       "  </tbody>\n",
       "</table>\n",
       "</div>"
      ],
      "text/plain": [
       "                             timestamp         id    price      size currency\n",
       "utc                                                                          \n",
       "2020-06-13 09:50:17.115  1592041817115  458426739    44.66 -2.000000      ltc\n",
       "2020-06-13 09:50:33.863  1592041833863  458471052  9433.00 -0.178916      btc\n",
       "2020-06-13 09:50:44.173  1592041844173  458471053  9433.00 -0.178920      btc\n",
       "2020-06-13 09:50:52.807  1592041852807  458471055  9432.50 -0.012000      btc\n",
       "2020-06-13 09:50:52.807  1592041852807  458471054  9432.50 -0.003000      btc"
      ]
     },
     "execution_count": 22,
     "metadata": {},
     "output_type": "execute_result"
    }
   ],
   "source": [
    "df_trades_all.head(5)"
   ]
  },
  {
   "cell_type": "markdown",
   "metadata": {},
   "source": [
    "# Variables & parameters"
   ]
  },
  {
   "cell_type": "code",
   "execution_count": 4,
   "metadata": {},
   "outputs": [],
   "source": [
    "# current price\n",
    "pf_now_btc = df_trades_btc['price'][0] \n",
    "pf_now_ltc = df_trades_ltc['price'][0]\n",
    "\n",
    "# list of historical prices in seconds\n",
    "pf_btc = [] \n",
    "pf_ltc = []\n",
    "\n",
    "# earlist timestamp\n",
    "prev_timestamp_btc = df_trades_btc['timestamp'][0]\n",
    "prev_timestamp_ltc = df_trades_ltc['timestamp'][0]\n",
    "\n",
    "# the timestamp of when we get both trades data\n",
    "prev_timestamp = prev_timestamp_btc if prev_timestamp_btc > prev_timestamp_ltc else prev_timestamp_ltc\n",
    "\n",
    "\n",
    "total_bals = [] # historical balance\n",
    "total_bals_hodl = [] # hold & control strategy\n",
    "\n",
    "prices_btc = [] # list of historical prices (from trades)\n",
    "prices_ltc = []\n",
    "\n",
    "bals_ltc = []\n",
    "\n",
    "utcs = []\n",
    "\n",
    "timestamp_list = []\n",
    "\n",
    "trades_my = []\n"
   ]
  },
  {
   "cell_type": "markdown",
   "metadata": {},
   "source": [
    "#### Trading Parameters"
   ]
  },
  {
   "cell_type": "code",
   "execution_count": 5,
   "metadata": {},
   "outputs": [],
   "source": [
    "premium_trade_threshold = 0.0015 #0.1%include the profit margin + transaction fee + spread\n",
    "\n",
    "\n",
    "max_secs = 0\n",
    "\n",
    "fee = 0.0003\n",
    "\n",
    "ltc_bal_init = 0\n",
    "usd_bal_init = 100000 #100k\n",
    "\n",
    "average_size = 12\n",
    "ltc_bal_min = -100\n",
    "ltc_bal_max = 100\n",
    "usd_bal_min = usd_bal_init * 0.5\n",
    "\n",
    "ltc_bal = ltc_bal_init\n",
    "usd_bal = usd_bal_init"
   ]
  },
  {
   "cell_type": "markdown",
   "metadata": {},
   "source": [
    "#### Model Parameters"
   ]
  },
  {
   "cell_type": "code",
   "execution_count": 5,
   "metadata": {},
   "outputs": [],
   "source": [
    "# model_frequency: 1 means the model is build on 1 min frequency\n",
    "model_frequency = 10"
   ]
  },
  {
   "cell_type": "markdown",
   "metadata": {},
   "source": [
    "### Model Parameters from ARDL"
   ]
  },
  {
   "cell_type": "code",
   "execution_count": 6,
   "metadata": {},
   "outputs": [],
   "source": [
    "# load dataset\n",
    "df_model = pd.read_csv('March_May_LTC_BTC_PRICES.csv',index_col = 'utc',parse_dates = True)\n"
   ]
  },
  {
   "cell_type": "code",
   "execution_count": 7,
   "metadata": {},
   "outputs": [],
   "source": [
    "def model_ardl(df_model,frequency):\n",
    "    \n",
    "    # resample the 1 minute data into customized sample frequency and change it to return \n",
    "    freq = str(frequency)+'T'\n",
    "    df_model_resample = df_model.resample(freq).first().pct_change()\n",
    "    \n",
    "    lag_btc = lagmat(df_model_resample.close_btc, maxlag = 5)\n",
    "    lag_ltc = lagmat(df_model_resample.close_ltc, maxlag = 5)\n",
    "    \n",
    "    model_fit = ols(formula=\"close_ltc ~ lag_btc+lag_ltc\", data=df_model_resample)\n",
    "    model_fit = model_fit.fit()\n",
    "    print( model_fit.summary() )\n",
    "    return model_fit"
   ]
  },
  {
   "cell_type": "code",
   "execution_count": 8,
   "metadata": {},
   "outputs": [],
   "source": [
    "def model_predict(pf_btc,pf_ltc,frequency, model_fit):\n",
    "    exog = pd.DataFrame({'btc_price':pf_btc,'ltc_price':pf_ltc})\n",
    "    \n",
    "    # resample the 1 second data into customized sample frequency(based on minute) and change it to return and obtain the latest data\n",
    "    exog = exog.groupby(exog.index//(60*frequency)).first().pct_change()[:-6:-1] # so the first is the latest return\n",
    "#     print(exog)\n",
    "    exog_lag = np.concatenate((exog['btc_price'].values,exog['ltc_price'].values))\n",
    "    exog_lag = np.append (1, exog_lag)\n",
    "    \n",
    "    predict_ltc_return = np.inner(np.array(model_fit.params),exog_lag)   \n",
    "    return predict_ltc_return"
   ]
  },
  {
   "cell_type": "code",
   "execution_count": 9,
   "metadata": {},
   "outputs": [
    {
     "name": "stdout",
     "output_type": "stream",
     "text": [
      "                            OLS Regression Results                            \n",
      "==============================================================================\n",
      "Dep. Variable:              close_ltc   R-squared:                       0.022\n",
      "Model:                            OLS   Adj. R-squared:                  0.021\n",
      "Method:                 Least Squares   F-statistic:                     19.59\n",
      "Date:                Wed, 17 Jun 2020   Prob (F-statistic):           3.12e-36\n",
      "Time:                        09:31:25   Log-Likelihood:                 31762.\n",
      "No. Observations:                8779   AIC:                        -6.350e+04\n",
      "Df Residuals:                    8768   BIC:                        -6.342e+04\n",
      "Df Model:                          10                                         \n",
      "Covariance Type:            nonrobust                                         \n",
      "==============================================================================\n",
      "                 coef    std err          t      P>|t|      [0.025      0.975]\n",
      "------------------------------------------------------------------------------\n",
      "Intercept  -9.283e-06   6.94e-05     -0.134      0.894      -0.000       0.000\n",
      "lag_btc[0]     0.0856      0.023      3.653      0.000       0.040       0.132\n",
      "lag_btc[1]     0.0468      0.024      1.969      0.049       0.000       0.093\n",
      "lag_btc[2]     0.0116      0.024      0.486      0.627      -0.035       0.058\n",
      "lag_btc[3]     0.0220      0.024      0.930      0.352      -0.024       0.068\n",
      "lag_btc[4]    -0.0068      0.023     -0.292      0.770      -0.052       0.039\n",
      "lag_ltc[0]    -0.0678      0.021     -3.285      0.001      -0.108      -0.027\n",
      "lag_ltc[1]    -0.0909      0.021     -4.333      0.000      -0.132      -0.050\n",
      "lag_ltc[2]    -0.1214      0.021     -5.772      0.000      -0.163      -0.080\n",
      "lag_ltc[3]    -0.0178      0.021     -0.853      0.394      -0.059       0.023\n",
      "lag_ltc[4]     0.0681      0.021      3.303      0.001       0.028       0.108\n",
      "==============================================================================\n",
      "Omnibus:                     6046.305   Durbin-Watson:                   2.002\n",
      "Prob(Omnibus):                  0.000   Jarque-Bera (JB):          2776662.752\n",
      "Skew:                           2.072   Prob(JB):                         0.00\n",
      "Kurtosis:                      90.027   Cond. No.                         534.\n",
      "==============================================================================\n",
      "\n",
      "Warnings:\n",
      "[1] Standard Errors assume that the covariance matrix of the errors is correctly specified.\n"
     ]
    }
   ],
   "source": [
    "# ARDL return model results with 5 lags in btc & utc in the customized defined frequency\n",
    "model_result = model_ardl(df_model,model_frequency)"
   ]
  },
  {
   "cell_type": "markdown",
   "metadata": {},
   "source": [
    "# Simulation"
   ]
  },
  {
   "cell_type": "code",
   "execution_count": 10,
   "metadata": {},
   "outputs": [
    {
     "name": "stdout",
     "output_type": "stream",
     "text": [
      "MAX SECS = 16\n",
      "MAX SECS = 63\n",
      "MAX SECS = 77\n",
      "MAX SECS = 81\n",
      "MAX SECS = 124\n",
      "MAX SECS = 125\n",
      "CPU times: user 24.5 s, sys: 30.4 ms, total: 24.5 s\n",
      "Wall time: 24.5 s\n"
     ]
    }
   ],
   "source": [
    "%%time\n",
    "for row in df_trades_all.itertuples():\n",
    "\tutc = row[0]\n",
    "\ttimestamp = row[1]\n",
    "\tcurrency = row[5]\n",
    "\tprice = row[3]\n",
    "\tsize = row[4]\n",
    "\n",
    "\tif currency == 'btc':\n",
    "\t\tpf_now_btc = price\n",
    "\telif currency == 'ltc':\n",
    "\t\tpf_now_ltc = price\n",
    "        \n",
    "\t\tif (len(pf_btc) == 4*60*15) and (len(pf_ltc) == 4*60*15):\n",
    "\t\t\t# we're ready to trade!\n",
    "\n",
    "\n",
    "\t\t\tltc_future_return = model_predict(pf_btc,pf_ltc,model_frequency,model_result) # model_frequency: 1 means 1 mins\n",
    "\t\t\tltc_fair_price = math.exp(ltc_future_return) * pf_now_ltc\n",
    "\n",
    "\t\t\tif abs(ltc_fair_price - price)/ltc_fair_price > premium_trade_threshold:\n",
    "# \t\t\t\tprint('MAKE THE TRADE!')\n",
    "# \t\t\t\tprint(ltc_fair_price)\n",
    "# \t\t\t\tprint(price)\n",
    "\n",
    "\t\t\t\tif (ltc_fair_price > price) and (ltc_bal < ltc_bal_max) and (size > 0):\n",
    "\t\t\t\t\t# size > 0 ensures that we are only executing taker trades in out backtest\n",
    "# \t\t\t\t\tprint('buy')\n",
    "\t\t\t\t\tsize_trade = min(average_size,abs(size))\n",
    "\t\t\t\t\ttrades_my.append([utc,'buy',size_trade,price,ltc_fair_price,size_trade*price*fee])\n",
    "\n",
    "\t\t\t\t\tltc_bal += size_trade\n",
    "\t\t\t\t\tusd_bal -= size_trade*price * (1 + fee) \n",
    "\t\t\t\telif (ltc_fair_price < price) and (ltc_bal > ltc_bal_min) and (size < 0):\n",
    "\t\t\t\t\t# size < 0 ensures that we are only executing taker trades in out backtest\n",
    "# \t\t\t\t\tprint('sell')\n",
    "\t\t\t\t\tsize_trade = min(average_size,abs(size))\n",
    "                    \n",
    "\t\t\t\t\ttrades_my.append([utc,'sell',size_trade,price,ltc_fair_price,size_trade*price*fee])\n",
    "                    \n",
    "\t\t\t\t\tltc_bal -= size_trade\n",
    "\t\t\t\t\tusd_bal += size_trade*price * (1-fee)\n",
    "\n",
    "\t\t\t\ttotal_bal = ltc_bal*price + usd_bal\n",
    "# \t\t\t\tprint('ltc bal = ' + str(ltc_bal))\n",
    "# \t\t\t\tprint('total bal = ' + str(total_bal))\n",
    "\t\t\t\ttotal_bal_hodl = ltc_bal_init * price + usd_bal_init\n",
    "\n",
    "\t\t\t\ttotal_bals.append(total_bal)\n",
    "\t\t\t\ttotal_bals_hodl.append(total_bal_hodl)\n",
    "\n",
    "\t\t\t\tprices_btc.append(pf_now_btc)\n",
    "\t\t\t\tprices_ltc.append(pf_now_ltc)\n",
    "\t\t\t\tbals_ltc.append(ltc_bal)\n",
    "                \n",
    "\t\t\t\tutcs.append(utc)\n",
    "            \n",
    "\n",
    "\n",
    "\n",
    "\n",
    "\n",
    "\n",
    "\tsecs_since_last_timestamp = int((timestamp - prev_timestamp)/1000)\n",
    "\t# secs_since_last_timestamp_btc = int((timestamp - prev_timestamp_btc)/1000)\n",
    "\n",
    "\tif secs_since_last_timestamp > max_secs:\n",
    "\t\t# just for logging purposes - the bigger this is, the less the backtest reflects actual trading conditions\n",
    "\t\tmax_secs = secs_since_last_timestamp\n",
    "\t\tprint ('MAX SECS = ' + str(max_secs))\n",
    "\n",
    "\tfor x in range(secs_since_last_timestamp):\n",
    "\t\tpf_btc.append(pf_now_btc)\n",
    "\t\tpf_ltc.append(pf_now_ltc)\n",
    "\n",
    "\t\tif len(pf_ltc) > 4*60*15:\n",
    "\t\t\t# remove first item from list if list is too long\n",
    "\t\t\tpf_ltc = pf_ltc[1:]\n",
    "\n",
    "\t\tif len(pf_btc) > 4*60*15:\n",
    "\t\t\t# remove first item from list if list is too long\n",
    "\t\t\tpf_btc = pf_btc[1:]\n",
    "\n",
    "\t\t# print(timestamp)\n",
    "\tprev_timestamp = timestamp\n",
    "\n"
   ]
  },
  {
   "cell_type": "markdown",
   "metadata": {},
   "source": [
    "# Combine data and ploting performance "
   ]
  },
  {
   "cell_type": "code",
   "execution_count": 11,
   "metadata": {},
   "outputs": [],
   "source": [
    "df = pd.DataFrame(zip(utcs,prices_btc,prices_ltc,bals_ltc,total_bals), columns = ['utc','price_btc','price_ltc','bal_ltc','bal_total'])\n",
    "\n",
    "\n",
    "df = df.set_index('utc').sort_index()\n",
    "\n",
    "df['return_pct'] = df.bal_total.pct_change()\n",
    "\n",
    "df['cum_return'] = (1+df['return_pct']).cumprod()\n",
    "\n"
   ]
  },
  {
   "cell_type": "code",
   "execution_count": 12,
   "metadata": {},
   "outputs": [
    {
     "data": {
      "text/html": [
       "<div>\n",
       "<style scoped>\n",
       "    .dataframe tbody tr th:only-of-type {\n",
       "        vertical-align: middle;\n",
       "    }\n",
       "\n",
       "    .dataframe tbody tr th {\n",
       "        vertical-align: top;\n",
       "    }\n",
       "\n",
       "    .dataframe thead th {\n",
       "        text-align: right;\n",
       "    }\n",
       "</style>\n",
       "<table border=\"1\" class=\"dataframe\">\n",
       "  <thead>\n",
       "    <tr style=\"text-align: right;\">\n",
       "      <th></th>\n",
       "      <th>price_btc</th>\n",
       "      <th>price_ltc</th>\n",
       "      <th>bal_ltc</th>\n",
       "      <th>bal_total</th>\n",
       "      <th>return_pct</th>\n",
       "      <th>cum_return</th>\n",
       "    </tr>\n",
       "    <tr>\n",
       "      <th>utc</th>\n",
       "      <th></th>\n",
       "      <th></th>\n",
       "      <th></th>\n",
       "      <th></th>\n",
       "      <th></th>\n",
       "      <th></th>\n",
       "    </tr>\n",
       "  </thead>\n",
       "  <tbody>\n",
       "    <tr>\n",
       "      <th>2020-06-15 06:35:35.945</th>\n",
       "      <td>8999.6</td>\n",
       "      <td>42.337</td>\n",
       "      <td>0.00000</td>\n",
       "      <td>100000.000000</td>\n",
       "      <td>NaN</td>\n",
       "      <td>NaN</td>\n",
       "    </tr>\n",
       "    <tr>\n",
       "      <th>2020-06-15 06:35:36.413</th>\n",
       "      <td>8999.6</td>\n",
       "      <td>42.338</td>\n",
       "      <td>0.75000</td>\n",
       "      <td>99999.990474</td>\n",
       "      <td>-9.526050e-08</td>\n",
       "      <td>1.000000</td>\n",
       "    </tr>\n",
       "    <tr>\n",
       "      <th>2020-06-15 06:36:02.282</th>\n",
       "      <td>8991.4</td>\n",
       "      <td>42.285</td>\n",
       "      <td>0.90000</td>\n",
       "      <td>99999.948821</td>\n",
       "      <td>-4.165283e-07</td>\n",
       "      <td>0.999999</td>\n",
       "    </tr>\n",
       "    <tr>\n",
       "      <th>2020-06-15 06:36:02.906</th>\n",
       "      <td>8991.8</td>\n",
       "      <td>42.285</td>\n",
       "      <td>6.72566</td>\n",
       "      <td>99999.874920</td>\n",
       "      <td>-7.390145e-07</td>\n",
       "      <td>0.999999</td>\n",
       "    </tr>\n",
       "    <tr>\n",
       "      <th>2020-06-15 06:36:20.875</th>\n",
       "      <td>8988.5</td>\n",
       "      <td>42.285</td>\n",
       "      <td>6.97566</td>\n",
       "      <td>99999.871748</td>\n",
       "      <td>-3.171379e-08</td>\n",
       "      <td>0.999999</td>\n",
       "    </tr>\n",
       "  </tbody>\n",
       "</table>\n",
       "</div>"
      ],
      "text/plain": [
       "                         price_btc  price_ltc  bal_ltc      bal_total  \\\n",
       "utc                                                                     \n",
       "2020-06-15 06:35:35.945     8999.6     42.337  0.00000  100000.000000   \n",
       "2020-06-15 06:35:36.413     8999.6     42.338  0.75000   99999.990474   \n",
       "2020-06-15 06:36:02.282     8991.4     42.285  0.90000   99999.948821   \n",
       "2020-06-15 06:36:02.906     8991.8     42.285  6.72566   99999.874920   \n",
       "2020-06-15 06:36:20.875     8988.5     42.285  6.97566   99999.871748   \n",
       "\n",
       "                           return_pct  cum_return  \n",
       "utc                                                \n",
       "2020-06-15 06:35:35.945           NaN         NaN  \n",
       "2020-06-15 06:35:36.413 -9.526050e-08    1.000000  \n",
       "2020-06-15 06:36:02.282 -4.165283e-07    0.999999  \n",
       "2020-06-15 06:36:02.906 -7.390145e-07    0.999999  \n",
       "2020-06-15 06:36:20.875 -3.171379e-08    0.999999  "
      ]
     },
     "execution_count": 12,
     "metadata": {},
     "output_type": "execute_result"
    }
   ],
   "source": [
    "df.head()"
   ]
  },
  {
   "cell_type": "code",
   "execution_count": 13,
   "metadata": {},
   "outputs": [
    {
     "data": {
      "text/plain": [
       "utc\n",
       "2020-06-30    0.01411\n",
       "Freq: M, Name: return_pct, dtype: float64"
      ]
     },
     "execution_count": 13,
     "metadata": {},
     "output_type": "execute_result"
    }
   ],
   "source": [
    "# daily profit in %\n",
    "df['return_pct'].resample('M').sum() * 100 "
   ]
  },
  {
   "cell_type": "code",
   "execution_count": 14,
   "metadata": {},
   "outputs": [
    {
     "data": {
      "text/plain": [
       "utc\n",
       "2020-06-15    14.109826\n",
       "Freq: D, Name: bal_total, dtype: float64"
      ]
     },
     "execution_count": 14,
     "metadata": {},
     "output_type": "execute_result"
    }
   ],
   "source": [
    "# daily profit in usd\n",
    "df['bal_total'].diff(1).resample('D').sum()"
   ]
  },
  {
   "cell_type": "code",
   "execution_count": 15,
   "metadata": {},
   "outputs": [
    {
     "data": {
      "text/plain": [
       "Text(0.5, 1.0, 'threshold = 0.0015; Freq = 10')"
      ]
     },
     "execution_count": 15,
     "metadata": {},
     "output_type": "execute_result"
    }
   ],
   "source": [
    "%matplotlib qt\n",
    "df.plot(subplots = True)\n",
    "plt.title('threshold = ' + str(premium_trade_threshold) + '; Freq = ' + str(model_frequency))"
   ]
  },
  {
   "cell_type": "markdown",
   "metadata": {},
   "source": [
    "# Own Trades Info"
   ]
  },
  {
   "cell_type": "code",
   "execution_count": 16,
   "metadata": {},
   "outputs": [
    {
     "data": {
      "text/html": [
       "<div>\n",
       "<style scoped>\n",
       "    .dataframe tbody tr th:only-of-type {\n",
       "        vertical-align: middle;\n",
       "    }\n",
       "\n",
       "    .dataframe tbody tr th {\n",
       "        vertical-align: top;\n",
       "    }\n",
       "\n",
       "    .dataframe thead th {\n",
       "        text-align: right;\n",
       "    }\n",
       "</style>\n",
       "<table border=\"1\" class=\"dataframe\">\n",
       "  <thead>\n",
       "    <tr style=\"text-align: right;\">\n",
       "      <th></th>\n",
       "      <th>side</th>\n",
       "      <th>size</th>\n",
       "      <th>price</th>\n",
       "      <th>price_fair</th>\n",
       "      <th>fee_usd</th>\n",
       "      <th>size_usd</th>\n",
       "    </tr>\n",
       "    <tr>\n",
       "      <th>utc</th>\n",
       "      <th></th>\n",
       "      <th></th>\n",
       "      <th></th>\n",
       "      <th></th>\n",
       "      <th></th>\n",
       "      <th></th>\n",
       "    </tr>\n",
       "  </thead>\n",
       "  <tbody>\n",
       "    <tr>\n",
       "      <th>2020-06-15 06:35:36.413</th>\n",
       "      <td>buy</td>\n",
       "      <td>0.75000</td>\n",
       "      <td>42.338</td>\n",
       "      <td>42.404495</td>\n",
       "      <td>0.009526</td>\n",
       "      <td>31.753500</td>\n",
       "    </tr>\n",
       "    <tr>\n",
       "      <th>2020-06-15 06:36:02.282</th>\n",
       "      <td>buy</td>\n",
       "      <td>0.15000</td>\n",
       "      <td>42.285</td>\n",
       "      <td>42.353486</td>\n",
       "      <td>0.001903</td>\n",
       "      <td>6.342750</td>\n",
       "    </tr>\n",
       "    <tr>\n",
       "      <th>2020-06-15 06:36:02.906</th>\n",
       "      <td>buy</td>\n",
       "      <td>5.82566</td>\n",
       "      <td>42.285</td>\n",
       "      <td>42.353502</td>\n",
       "      <td>0.073901</td>\n",
       "      <td>246.338041</td>\n",
       "    </tr>\n",
       "  </tbody>\n",
       "</table>\n",
       "</div>"
      ],
      "text/plain": [
       "                        side     size   price  price_fair   fee_usd  \\\n",
       "utc                                                                   \n",
       "2020-06-15 06:35:36.413  buy  0.75000  42.338   42.404495  0.009526   \n",
       "2020-06-15 06:36:02.282  buy  0.15000  42.285   42.353486  0.001903   \n",
       "2020-06-15 06:36:02.906  buy  5.82566  42.285   42.353502  0.073901   \n",
       "\n",
       "                           size_usd  \n",
       "utc                                  \n",
       "2020-06-15 06:35:36.413   31.753500  \n",
       "2020-06-15 06:36:02.282    6.342750  \n",
       "2020-06-15 06:36:02.906  246.338041  "
      ]
     },
     "execution_count": 16,
     "metadata": {},
     "output_type": "execute_result"
    }
   ],
   "source": [
    "trades_own = pd.DataFrame(trades_my, columns = ['utc', 'side','size','price','price_fair','fee_usd'])\n",
    "\n",
    "trades_own = trades_own.set_index('utc').sort_index()\n",
    "\n",
    "trades_own['size_usd'] = trades_own['price'] * trades_own['size']\n",
    "\n",
    "trades_own.head(3)"
   ]
  },
  {
   "cell_type": "markdown",
   "metadata": {},
   "source": [
    "### buy/sell counts"
   ]
  },
  {
   "cell_type": "code",
   "execution_count": 17,
   "metadata": {},
   "outputs": [
    {
     "data": {
      "text/plain": [
       "utc         side\n",
       "2020-06-15  buy     6\n",
       "Name: side, dtype: int64"
      ]
     },
     "execution_count": 17,
     "metadata": {},
     "output_type": "execute_result"
    }
   ],
   "source": [
    "trades_own.resample('D').side.value_counts()"
   ]
  },
  {
   "cell_type": "markdown",
   "metadata": {},
   "source": [
    "### Daily trade size & fee"
   ]
  },
  {
   "cell_type": "code",
   "execution_count": 18,
   "metadata": {},
   "outputs": [
    {
     "data": {
      "text/html": [
       "<div>\n",
       "<style scoped>\n",
       "    .dataframe tbody tr th:only-of-type {\n",
       "        vertical-align: middle;\n",
       "    }\n",
       "\n",
       "    .dataframe tbody tr th {\n",
       "        vertical-align: top;\n",
       "    }\n",
       "\n",
       "    .dataframe thead th {\n",
       "        text-align: right;\n",
       "    }\n",
       "</style>\n",
       "<table border=\"1\" class=\"dataframe\">\n",
       "  <thead>\n",
       "    <tr style=\"text-align: right;\">\n",
       "      <th></th>\n",
       "      <th>size</th>\n",
       "      <th>size_usd</th>\n",
       "      <th>fee_usd</th>\n",
       "    </tr>\n",
       "    <tr>\n",
       "      <th>utc</th>\n",
       "      <th></th>\n",
       "      <th></th>\n",
       "      <th></th>\n",
       "    </tr>\n",
       "  </thead>\n",
       "  <tbody>\n",
       "    <tr>\n",
       "      <th>2020-06-15</th>\n",
       "      <td>25.82381</td>\n",
       "      <td>1089.763553</td>\n",
       "      <td>0.326929</td>\n",
       "    </tr>\n",
       "  </tbody>\n",
       "</table>\n",
       "</div>"
      ],
      "text/plain": [
       "                size     size_usd   fee_usd\n",
       "utc                                        \n",
       "2020-06-15  25.82381  1089.763553  0.326929"
      ]
     },
     "execution_count": 18,
     "metadata": {},
     "output_type": "execute_result"
    }
   ],
   "source": [
    "trades_own[['size', 'size_usd','fee_usd']].resample('D').sum()"
   ]
  },
  {
   "cell_type": "code",
   "execution_count": 19,
   "metadata": {},
   "outputs": [
    {
     "data": {
      "text/html": [
       "<div>\n",
       "<style scoped>\n",
       "    .dataframe tbody tr th:only-of-type {\n",
       "        vertical-align: middle;\n",
       "    }\n",
       "\n",
       "    .dataframe tbody tr th {\n",
       "        vertical-align: top;\n",
       "    }\n",
       "\n",
       "    .dataframe thead th {\n",
       "        text-align: right;\n",
       "    }\n",
       "</style>\n",
       "<table border=\"1\" class=\"dataframe\">\n",
       "  <thead>\n",
       "    <tr style=\"text-align: right;\">\n",
       "      <th></th>\n",
       "      <th>side</th>\n",
       "      <th>size</th>\n",
       "      <th>price</th>\n",
       "      <th>price_fair</th>\n",
       "      <th>fee_usd</th>\n",
       "      <th>size_usd</th>\n",
       "    </tr>\n",
       "    <tr>\n",
       "      <th>utc</th>\n",
       "      <th></th>\n",
       "      <th></th>\n",
       "      <th></th>\n",
       "      <th></th>\n",
       "      <th></th>\n",
       "      <th></th>\n",
       "    </tr>\n",
       "  </thead>\n",
       "  <tbody>\n",
       "    <tr>\n",
       "      <th>2020-06-15 06:35:36.413</th>\n",
       "      <td>buy</td>\n",
       "      <td>0.75000</td>\n",
       "      <td>42.338</td>\n",
       "      <td>42.404495</td>\n",
       "      <td>0.009526</td>\n",
       "      <td>31.753500</td>\n",
       "    </tr>\n",
       "    <tr>\n",
       "      <th>2020-06-15 06:36:02.282</th>\n",
       "      <td>buy</td>\n",
       "      <td>0.15000</td>\n",
       "      <td>42.285</td>\n",
       "      <td>42.353486</td>\n",
       "      <td>0.001903</td>\n",
       "      <td>6.342750</td>\n",
       "    </tr>\n",
       "    <tr>\n",
       "      <th>2020-06-15 06:36:02.906</th>\n",
       "      <td>buy</td>\n",
       "      <td>5.82566</td>\n",
       "      <td>42.285</td>\n",
       "      <td>42.353502</td>\n",
       "      <td>0.073901</td>\n",
       "      <td>246.338041</td>\n",
       "    </tr>\n",
       "    <tr>\n",
       "      <th>2020-06-15 06:36:20.875</th>\n",
       "      <td>buy</td>\n",
       "      <td>0.25000</td>\n",
       "      <td>42.285</td>\n",
       "      <td>42.357823</td>\n",
       "      <td>0.003171</td>\n",
       "      <td>10.571250</td>\n",
       "    </tr>\n",
       "    <tr>\n",
       "      <th>2020-06-15 06:45:19.553</th>\n",
       "      <td>buy</td>\n",
       "      <td>6.84815</td>\n",
       "      <td>42.160</td>\n",
       "      <td>42.233036</td>\n",
       "      <td>0.086615</td>\n",
       "      <td>288.718012</td>\n",
       "    </tr>\n",
       "    <tr>\n",
       "      <th>2020-06-15 06:45:19.553</th>\n",
       "      <td>buy</td>\n",
       "      <td>12.00000</td>\n",
       "      <td>42.170</td>\n",
       "      <td>42.233756</td>\n",
       "      <td>0.151812</td>\n",
       "      <td>506.040000</td>\n",
       "    </tr>\n",
       "  </tbody>\n",
       "</table>\n",
       "</div>"
      ],
      "text/plain": [
       "                        side      size   price  price_fair   fee_usd  \\\n",
       "utc                                                                    \n",
       "2020-06-15 06:35:36.413  buy   0.75000  42.338   42.404495  0.009526   \n",
       "2020-06-15 06:36:02.282  buy   0.15000  42.285   42.353486  0.001903   \n",
       "2020-06-15 06:36:02.906  buy   5.82566  42.285   42.353502  0.073901   \n",
       "2020-06-15 06:36:20.875  buy   0.25000  42.285   42.357823  0.003171   \n",
       "2020-06-15 06:45:19.553  buy   6.84815  42.160   42.233036  0.086615   \n",
       "2020-06-15 06:45:19.553  buy  12.00000  42.170   42.233756  0.151812   \n",
       "\n",
       "                           size_usd  \n",
       "utc                                  \n",
       "2020-06-15 06:35:36.413   31.753500  \n",
       "2020-06-15 06:36:02.282    6.342750  \n",
       "2020-06-15 06:36:02.906  246.338041  \n",
       "2020-06-15 06:36:20.875   10.571250  \n",
       "2020-06-15 06:45:19.553  288.718012  \n",
       "2020-06-15 06:45:19.553  506.040000  "
      ]
     },
     "execution_count": 19,
     "metadata": {},
     "output_type": "execute_result"
    }
   ],
   "source": [
    "trades_own.head()"
   ]
  },
  {
   "cell_type": "code",
   "execution_count": null,
   "metadata": {},
   "outputs": [],
   "source": []
  },
  {
   "cell_type": "code",
   "execution_count": null,
   "metadata": {},
   "outputs": [],
   "source": []
  },
  {
   "cell_type": "code",
   "execution_count": null,
   "metadata": {},
   "outputs": [],
   "source": []
  }
 ],
 "metadata": {
  "kernelspec": {
   "display_name": "Python 3",
   "language": "python",
   "name": "python3"
  },
  "language_info": {
   "codemirror_mode": {
    "name": "ipython",
    "version": 3
   },
   "file_extension": ".py",
   "mimetype": "text/x-python",
   "name": "python",
   "nbconvert_exporter": "python",
   "pygments_lexer": "ipython3",
   "version": "3.7.7"
  }
 },
 "nbformat": 4,
 "nbformat_minor": 4
}
