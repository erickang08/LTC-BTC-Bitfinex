{
 "cells": [
  {
   "cell_type": "code",
   "execution_count": 1,
   "metadata": {},
   "outputs": [],
   "source": [
    "import pandas as pd\n",
    "import numpy as np\n",
    "import math\n",
    "import os\n",
    "import csv\n",
    "import time\n",
    "from datetime import datetime\n",
    "from statsmodels.tsa.tsatools import lagmat\n",
    "import statsmodels.api as sm\n",
    "from statsmodels.formula.api import ols\n",
    "import matplotlib.pyplot as plt"
   ]
  },
  {
   "cell_type": "markdown",
   "metadata": {},
   "source": [
    "# Data processing"
   ]
  },
  {
   "cell_type": "code",
   "execution_count": 2,
   "metadata": {},
   "outputs": [
    {
     "name": "stderr",
     "output_type": "stream",
     "text": [
      "/opt/anaconda2/envs/py3/lib/python3.7/site-packages/ipykernel_launcher.py:5: FutureWarning: The pandas.datetime class is deprecated and will be removed from pandas in a future version. Import from datetime module instead.\n",
      "  \"\"\"\n"
     ]
    }
   ],
   "source": [
    "pattern_bm = '%Y-%m-%dT%H:%M:%S.%fZ'\n",
    "pattern_bf = '%Y-%m-%d %H:%M:%S.%f'\n",
    "\n",
    "dateparse_bm = lambda dates: pd.datetime.strptime(dates, pattern_bm)\n",
    "dateparse_bf = lambda dates: pd.datetime.strptime(dates, pattern_bf)\n",
    "\n",
    "\n",
    "df_trades_ltc = pd.read_csv('/Users/Zi/Documents/alfie/lead_lag_relation/2019_ltc_BTC/backtesting/trades_public/bitfinex_trades_ltc_30.csv',parse_dates=True, index_col='utc',date_parser=dateparse_bf).sort_values(by=['utc'])#.truncate(before=week_ago_str, after=now_str)\n",
    "df_trades_ltc['currency'] = 'ltc'\n",
    "\n",
    "df_trades_btc = pd.read_csv('/Users/Zi/Documents/alfie/lead_lag_relation/2019_ltc_BTC/backtesting/trades_public/bitfinex_trades_btc_30.csv',parse_dates=True, index_col='utc',date_parser=dateparse_bf).sort_values(by=['utc'])#.truncate(before=week_ago_str, after=now_str)\n",
    "df_trades_btc['currency'] = 'btc'\n",
    "\n",
    "\n",
    "df_trades_all = df_trades_btc.append(df_trades_ltc).sort_values(by=['utc'])\n",
    "# df_trades_all = df_trades_ltc\n",
    "\n",
    "\n"
   ]
  },
  {
   "cell_type": "code",
   "execution_count": 3,
   "metadata": {},
   "outputs": [
    {
     "data": {
      "text/html": [
       "<div>\n",
       "<style scoped>\n",
       "    .dataframe tbody tr th:only-of-type {\n",
       "        vertical-align: middle;\n",
       "    }\n",
       "\n",
       "    .dataframe tbody tr th {\n",
       "        vertical-align: top;\n",
       "    }\n",
       "\n",
       "    .dataframe thead th {\n",
       "        text-align: right;\n",
       "    }\n",
       "</style>\n",
       "<table border=\"1\" class=\"dataframe\">\n",
       "  <thead>\n",
       "    <tr style=\"text-align: right;\">\n",
       "      <th></th>\n",
       "      <th>timestamp</th>\n",
       "      <th>id</th>\n",
       "      <th>price</th>\n",
       "      <th>size</th>\n",
       "      <th>currency</th>\n",
       "    </tr>\n",
       "    <tr>\n",
       "      <th>utc</th>\n",
       "      <th></th>\n",
       "      <th></th>\n",
       "      <th></th>\n",
       "      <th></th>\n",
       "      <th></th>\n",
       "    </tr>\n",
       "  </thead>\n",
       "  <tbody>\n",
       "    <tr>\n",
       "      <th>2020-05-17 10:04:36.769</th>\n",
       "      <td>1589709876769</td>\n",
       "      <td>448481641</td>\n",
       "      <td>9512.4</td>\n",
       "      <td>0.025000</td>\n",
       "      <td>btc</td>\n",
       "    </tr>\n",
       "    <tr>\n",
       "      <th>2020-05-17 10:04:37.016</th>\n",
       "      <td>1589709877016</td>\n",
       "      <td>448481642</td>\n",
       "      <td>9512.4</td>\n",
       "      <td>0.001000</td>\n",
       "      <td>btc</td>\n",
       "    </tr>\n",
       "    <tr>\n",
       "      <th>2020-05-17 10:04:37.095</th>\n",
       "      <td>1589709877095</td>\n",
       "      <td>448481643</td>\n",
       "      <td>9512.4</td>\n",
       "      <td>0.005000</td>\n",
       "      <td>btc</td>\n",
       "    </tr>\n",
       "    <tr>\n",
       "      <th>2020-05-17 10:04:37.107</th>\n",
       "      <td>1589709877107</td>\n",
       "      <td>448481645</td>\n",
       "      <td>9512.4</td>\n",
       "      <td>0.250000</td>\n",
       "      <td>btc</td>\n",
       "    </tr>\n",
       "    <tr>\n",
       "      <th>2020-05-17 10:04:37.682</th>\n",
       "      <td>1589709877682</td>\n",
       "      <td>448481646</td>\n",
       "      <td>9512.4</td>\n",
       "      <td>0.097734</td>\n",
       "      <td>btc</td>\n",
       "    </tr>\n",
       "  </tbody>\n",
       "</table>\n",
       "</div>"
      ],
      "text/plain": [
       "                             timestamp         id   price      size currency\n",
       "utc                                                                         \n",
       "2020-05-17 10:04:36.769  1589709876769  448481641  9512.4  0.025000      btc\n",
       "2020-05-17 10:04:37.016  1589709877016  448481642  9512.4  0.001000      btc\n",
       "2020-05-17 10:04:37.095  1589709877095  448481643  9512.4  0.005000      btc\n",
       "2020-05-17 10:04:37.107  1589709877107  448481645  9512.4  0.250000      btc\n",
       "2020-05-17 10:04:37.682  1589709877682  448481646  9512.4  0.097734      btc"
      ]
     },
     "execution_count": 3,
     "metadata": {},
     "output_type": "execute_result"
    }
   ],
   "source": [
    "df_trades_all.head(5)"
   ]
  },
  {
   "cell_type": "markdown",
   "metadata": {},
   "source": [
    "# Variables & parameters"
   ]
  },
  {
   "cell_type": "code",
   "execution_count": 4,
   "metadata": {},
   "outputs": [],
   "source": [
    "# earlist price\n",
    "pf_now_btc = df_trades_btc['price'][0] \n",
    "pf_now_ltc = df_trades_ltc['price'][0]\n",
    "\n",
    "# list of historical prices in seconds\n",
    "pf_btc = [] \n",
    "pf_ltc = []\n",
    "\n",
    "# earlist timestamp\n",
    "prev_timestamp_btc = df_trades_btc['timestamp'][0]\n",
    "prev_timestamp_ltc = df_trades_ltc['timestamp'][0]\n",
    "\n",
    "# the timestamp of when we get both trades data\n",
    "prev_timestamp = prev_timestamp_btc if prev_timestamp_btc > prev_timestamp_ltc else prev_timestamp_ltc\n",
    "\n",
    "\n",
    "total_bals = [] # historical balance\n",
    "total_bals_hodl = [] # hold & control strategy\n",
    "\n",
    "prices_btc = [] # list of historical prices (from trades)\n",
    "prices_ltc = []\n",
    "\n",
    "bals_ltc = []\n",
    "\n",
    "utcs = []\n",
    "\n",
    "timestamp_list = []\n",
    "\n",
    "trades_my = []\n"
   ]
  },
  {
   "cell_type": "code",
   "execution_count": 49,
   "metadata": {},
   "outputs": [],
   "source": [
    "\n",
    "premium_trade_threshold = 0.0015 #0.1%include the profit margin + transaction fee + spread\n",
    "\n",
    "\n",
    "max_secs = 0\n",
    "\n",
    "fee = 0.0003\n",
    "\n",
    "ltc_bal_init = 0\n",
    "usd_bal_init = 100000 #100k\n",
    "\n",
    "average_size = 12\n",
    "ltc_bal_min = -100\n",
    "ltc_bal_max = 100\n",
    "usd_bal_min = usd_bal_init * 0.5\n",
    "\n",
    "ltc_bal = ltc_bal_init\n",
    "usd_bal = usd_bal_init\n",
    "\n",
    "\n",
    "# model_frequency: 1 means the model is build on 1 min frequency\n",
    "model_frequency = 10\n"
   ]
  },
  {
   "cell_type": "markdown",
   "metadata": {},
   "source": [
    "### Model Parameters from ARDL"
   ]
  },
  {
   "cell_type": "code",
   "execution_count": 50,
   "metadata": {},
   "outputs": [],
   "source": [
    "# load dataset\n",
    "df_model = pd.read_csv('March_May_LTC_BTC_PRICES.csv',index_col = 'utc',parse_dates = True)\n"
   ]
  },
  {
   "cell_type": "code",
   "execution_count": 51,
   "metadata": {},
   "outputs": [],
   "source": [
    "def model_ardl(df_model,frequency):\n",
    "    \n",
    "    # resample the 1 minute data into customized sample frequency and change it to return \n",
    "    freq = str(frequency)+'T'\n",
    "    df_model_resample = df_model.resample(freq).first().pct_change()\n",
    "    \n",
    "    lag_btc = lagmat(df_model_resample.close_btc, maxlag = 5)\n",
    "    lag_ltc = lagmat(df_model_resample.close_ltc, maxlag = 5)\n",
    "    \n",
    "    model_fit = ols(formula=\"close_ltc ~ lag_btc+lag_ltc\", data=df_model_resample)\n",
    "    model_fit = model_fit.fit()\n",
    "    print( model_fit.summary() )\n",
    "    return model_fit"
   ]
  },
  {
   "cell_type": "code",
   "execution_count": 52,
   "metadata": {},
   "outputs": [],
   "source": [
    "def model_predict(pf_btc,pf_ltc,frequency, model_fit):\n",
    "    exog = pd.DataFrame({'btc_price':pf_btc,'ltc_price':pf_ltc})\n",
    "    \n",
    "    # resample the 1 second data into customized sample frequency(based on minute) and change it to return and obtain the latest data\n",
    "    exog = exog.groupby(exog.index//(60*frequency)).first().pct_change()[:-6:-1] # so the first is the latest return\n",
    "#     print(exog)\n",
    "    exog_lag = np.concatenate((exog['btc_price'].values,exog['ltc_price'].values))\n",
    "    exog_lag = np.append (1, exog_lag)\n",
    "    \n",
    "    predict_ltc_return = np.inner(np.array(model_fit.params),exog_lag)   \n",
    "    return predict_ltc_return"
   ]
  },
  {
   "cell_type": "code",
   "execution_count": 53,
   "metadata": {},
   "outputs": [
    {
     "name": "stdout",
     "output_type": "stream",
     "text": [
      "                            OLS Regression Results                            \n",
      "==============================================================================\n",
      "Dep. Variable:              close_ltc   R-squared:                       0.022\n",
      "Model:                            OLS   Adj. R-squared:                  0.021\n",
      "Method:                 Least Squares   F-statistic:                     19.59\n",
      "Date:                Wed, 17 Jun 2020   Prob (F-statistic):           3.12e-36\n",
      "Time:                        09:20:17   Log-Likelihood:                 31762.\n",
      "No. Observations:                8779   AIC:                        -6.350e+04\n",
      "Df Residuals:                    8768   BIC:                        -6.342e+04\n",
      "Df Model:                          10                                         \n",
      "Covariance Type:            nonrobust                                         \n",
      "==============================================================================\n",
      "                 coef    std err          t      P>|t|      [0.025      0.975]\n",
      "------------------------------------------------------------------------------\n",
      "Intercept  -9.283e-06   6.94e-05     -0.134      0.894      -0.000       0.000\n",
      "lag_btc[0]     0.0856      0.023      3.653      0.000       0.040       0.132\n",
      "lag_btc[1]     0.0468      0.024      1.969      0.049       0.000       0.093\n",
      "lag_btc[2]     0.0116      0.024      0.486      0.627      -0.035       0.058\n",
      "lag_btc[3]     0.0220      0.024      0.930      0.352      -0.024       0.068\n",
      "lag_btc[4]    -0.0068      0.023     -0.292      0.770      -0.052       0.039\n",
      "lag_ltc[0]    -0.0678      0.021     -3.285      0.001      -0.108      -0.027\n",
      "lag_ltc[1]    -0.0909      0.021     -4.333      0.000      -0.132      -0.050\n",
      "lag_ltc[2]    -0.1214      0.021     -5.772      0.000      -0.163      -0.080\n",
      "lag_ltc[3]    -0.0178      0.021     -0.853      0.394      -0.059       0.023\n",
      "lag_ltc[4]     0.0681      0.021      3.303      0.001       0.028       0.108\n",
      "==============================================================================\n",
      "Omnibus:                     6046.305   Durbin-Watson:                   2.002\n",
      "Prob(Omnibus):                  0.000   Jarque-Bera (JB):          2776662.752\n",
      "Skew:                           2.072   Prob(JB):                         0.00\n",
      "Kurtosis:                      90.027   Cond. No.                         534.\n",
      "==============================================================================\n",
      "\n",
      "Warnings:\n",
      "[1] Standard Errors assume that the covariance matrix of the errors is correctly specified.\n"
     ]
    }
   ],
   "source": [
    "# ARDL return model results with 5 lags in btc & utc in the customized defined frequency\n",
    "model_result = model_ardl(df_model,model_frequency)"
   ]
  },
  {
   "cell_type": "markdown",
   "metadata": {},
   "source": [
    "# Simulation"
   ]
  },
  {
   "cell_type": "code",
   "execution_count": null,
   "metadata": {},
   "outputs": [
    {
     "name": "stdout",
     "output_type": "stream",
     "text": [
      "MAX SECS = 1\n",
      "MAX SECS = 44\n",
      "MAX SECS = 52\n",
      "MAX SECS = 83\n",
      "MAX SECS = 103\n",
      "MAX SECS = 135\n",
      "MAX SECS = 142\n",
      "MAX SECS = 145\n"
     ]
    }
   ],
   "source": [
    "%%time\n",
    "for row in df_trades_all.itertuples():\n",
    "\tutc = row[0]\n",
    "\ttimestamp = row[1]\n",
    "\tcurrency = row[5]\n",
    "\tprice = row[3]\n",
    "\tsize = row[4]\n",
    "\n",
    "\tif currency == 'btc':\n",
    "\t\tpf_now_btc = price\n",
    "\telif currency == 'ltc':\n",
    "\t\tpf_now_ltc = price\n",
    "        \n",
    "\t\tif (len(pf_btc) == 4*60*15) and (len(pf_ltc) == 4*60*15):\n",
    "\t\t\t# we're ready to trade!\n",
    "\n",
    "\n",
    "\t\t\tltc_future_return = model_predict(pf_btc,pf_ltc,model_frequency,model_result) # model_frequency: 1 means 1 mins\n",
    "\t\t\tltc_fair_price = math.exp(ltc_future_return) * pf_now_ltc\n",
    "\n",
    "\t\t\tif abs(ltc_fair_price - price)/ltc_fair_price > premium_trade_threshold:\n",
    "# \t\t\t\tprint('MAKE THE TRADE!')\n",
    "# \t\t\t\tprint(ltc_fair_price)\n",
    "# \t\t\t\tprint(price)\n",
    "\n",
    "\t\t\t\tif (ltc_fair_price > price) and (ltc_bal < ltc_bal_max) and (size > 0):\n",
    "\t\t\t\t\t# size > 0 ensures that we are only executing taker trades in out backtest\n",
    "# \t\t\t\t\tprint('buy')\n",
    "\t\t\t\t\tsize_trade = min(average_size,abs(size))\n",
    "\t\t\t\t\ttrades_my.append([utc,'buy',size_trade,price,ltc_fair_price,size_trade*price*fee])\n",
    "\n",
    "\t\t\t\t\tltc_bal += size_trade\n",
    "\t\t\t\t\tusd_bal -= size_trade*price * (1 + fee) \n",
    "\t\t\t\telif (ltc_fair_price < price) and (ltc_bal > ltc_bal_min) and (size < 0):\n",
    "\t\t\t\t\t# size < 0 ensures that we are only executing taker trades in out backtest\n",
    "# \t\t\t\t\tprint('sell')\n",
    "\t\t\t\t\tsize_trade = min(average_size,abs(size))\n",
    "                    \n",
    "\t\t\t\t\ttrades_my.append([utc,'sell',size_trade,price,ltc_fair_price,size_trade*price*fee])\n",
    "                    \n",
    "\t\t\t\t\tltc_bal -= size_trade\n",
    "\t\t\t\t\tusd_bal += size_trade*price * (1-fee)\n",
    "\n",
    "\t\t\t\ttotal_bal = ltc_bal*price + usd_bal\n",
    "# \t\t\t\tprint('ltc bal = ' + str(ltc_bal))\n",
    "# \t\t\t\tprint('total bal = ' + str(total_bal))\n",
    "\t\t\t\ttotal_bal_hodl = ltc_bal_init * price + usd_bal_init\n",
    "\n",
    "\t\t\t\ttotal_bals.append(total_bal)\n",
    "\t\t\t\ttotal_bals_hodl.append(total_bal_hodl)\n",
    "\n",
    "\t\t\t\tprices_btc.append(pf_now_btc)\n",
    "\t\t\t\tprices_ltc.append(pf_now_ltc)\n",
    "\t\t\t\tbals_ltc.append(ltc_bal)\n",
    "                \n",
    "\t\t\t\tutcs.append(utc)\n",
    "            \n",
    "\n",
    "\n",
    "\n",
    "\n",
    "\n",
    "\n",
    "\tsecs_since_last_timestamp = int((timestamp - prev_timestamp)/1000)\n",
    "\t# secs_since_last_timestamp_btc = int((timestamp - prev_timestamp_btc)/1000)\n",
    "\n",
    "\tif secs_since_last_timestamp > max_secs:\n",
    "\t\t# just for logging purposes - the bigger this is, the less the backtest reflects actual trading conditions\n",
    "\t\tmax_secs = secs_since_last_timestamp\n",
    "\t\tprint ('MAX SECS = ' + str(max_secs))\n",
    "\n",
    "\tfor x in range(secs_since_last_timestamp):\n",
    "\t\tpf_btc.append(pf_now_btc)\n",
    "\t\tpf_ltc.append(pf_now_ltc)\n",
    "\n",
    "\t\tif len(pf_ltc) > 4*60*15:\n",
    "\t\t\t# remove first item from list if list is too long\n",
    "\t\t\tpf_ltc = pf_ltc[1:]\n",
    "\n",
    "\t\tif len(pf_btc) > 4*60*15:\n",
    "\t\t\t# remove first item from list if list is too long\n",
    "\t\t\tpf_btc = pf_btc[1:]\n",
    "\n",
    "\t\t# print(timestamp)\n",
    "\tprev_timestamp = timestamp\n",
    "\n"
   ]
  },
  {
   "cell_type": "markdown",
   "metadata": {},
   "source": [
    "# Combine data and ploting performance "
   ]
  },
  {
   "cell_type": "code",
   "execution_count": null,
   "metadata": {},
   "outputs": [],
   "source": [
    "df = pd.DataFrame(zip(utcs,prices_btc,prices_ltc,bals_ltc,total_bals), columns = ['utc','price_btc','price_ltc','bal_ltc','bal_total'])\n",
    "\n",
    "\n",
    "df = df.set_index('utc').sort_index()\n",
    "\n",
    "df['return_pct'] = df.bal_total.pct_change()\n",
    "\n",
    "df['cum_return'] = (1+df['return_pct']).cumprod()\n",
    "\n"
   ]
  },
  {
   "cell_type": "code",
   "execution_count": null,
   "metadata": {},
   "outputs": [],
   "source": [
    "df.head()"
   ]
  },
  {
   "cell_type": "code",
   "execution_count": null,
   "metadata": {},
   "outputs": [],
   "source": [
    "# daily profit in %\n",
    "df['return_pct'].resample('M').sum() * 100 "
   ]
  },
  {
   "cell_type": "code",
   "execution_count": null,
   "metadata": {},
   "outputs": [],
   "source": [
    "# daily profit in usd\n",
    "df['bal_total'].diff(1).resample('D').sum()"
   ]
  },
  {
   "cell_type": "code",
   "execution_count": null,
   "metadata": {},
   "outputs": [],
   "source": [
    "%matplotlib qt\n",
    "df.plot(subplots = True)\n",
    "plt.title('threshold = ' + str(premium_trade_threshold) + '; Freq = ' + str(model_frequency))"
   ]
  },
  {
   "cell_type": "markdown",
   "metadata": {},
   "source": [
    "# Own Trade Info"
   ]
  },
  {
   "cell_type": "code",
   "execution_count": null,
   "metadata": {},
   "outputs": [],
   "source": [
    "trades_own = pd.DataFrame(trades_my, columns = ['utc', 'side','size','price','price_fair','fee_usd'])\n",
    "\n",
    "trades_own = trades_own.set_index('utc').sort_index()\n",
    "\n",
    "trades_own['size_usd'] = trades_own['price'] * trades_own['size']\n",
    "\n",
    "trades_own.head(3)"
   ]
  },
  {
   "cell_type": "markdown",
   "metadata": {},
   "source": [
    "### buy/sell counts"
   ]
  },
  {
   "cell_type": "code",
   "execution_count": null,
   "metadata": {},
   "outputs": [],
   "source": [
    "trades_own.resample('D').side.value_counts()"
   ]
  },
  {
   "cell_type": "markdown",
   "metadata": {},
   "source": [
    "### Daily trade size & fee"
   ]
  },
  {
   "cell_type": "code",
   "execution_count": null,
   "metadata": {},
   "outputs": [],
   "source": [
    "trades_own[['size', 'size_usd','fee_usd']].resample('D').sum()"
   ]
  },
  {
   "cell_type": "code",
   "execution_count": null,
   "metadata": {},
   "outputs": [],
   "source": [
    "trades_own"
   ]
  },
  {
   "cell_type": "code",
   "execution_count": null,
   "metadata": {},
   "outputs": [],
   "source": []
  },
  {
   "cell_type": "code",
   "execution_count": null,
   "metadata": {},
   "outputs": [],
   "source": []
  },
  {
   "cell_type": "code",
   "execution_count": null,
   "metadata": {},
   "outputs": [],
   "source": []
  }
 ],
 "metadata": {
  "kernelspec": {
   "display_name": "Python 3",
   "language": "python",
   "name": "python3"
  },
  "language_info": {
   "codemirror_mode": {
    "name": "ipython",
    "version": 3
   },
   "file_extension": ".py",
   "mimetype": "text/x-python",
   "name": "python",
   "nbconvert_exporter": "python",
   "pygments_lexer": "ipython3",
   "version": "3.7.7"
  }
 },
 "nbformat": 4,
 "nbformat_minor": 4
}
